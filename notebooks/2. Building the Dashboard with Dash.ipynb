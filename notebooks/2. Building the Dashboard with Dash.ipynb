{
 "cells": [
  {
   "cell_type": "markdown",
   "id": "23aea759",
   "metadata": {},
   "source": [
    "# Building the Dashboard with Dash\n",
    "\n",
    "* [Dash Documentation](https://dash.plotly.com/)\n",
    "    * free and open source Python library created and maintained by the company Plotly\n",
    "    * helps build dashboards - tools to display data visually and allow users to interact with it\n",
    "    * built on top of Flask and reactjs\n",
    "    * does not make any plots (plotly library does)\n",
    "    * can add plolty graphs to dash application\n",
    "\n",
    "\n",
    "## Parts of a Dash application\n",
    "\n",
    "There are two parts of a Dash application:\n",
    "\n",
    "* Layout\n",
    "* Interactivity (Callback functions)\n",
    "\n",
    "### Layout\n",
    "\n",
    "* Physical components of application\n",
    "* Two broad types of components\n",
    "    * HTML elements (same as normal HTML elements)\n",
    "    * dash components (combine together HTML/CSS and JavaScript into a single component)\n",
    "        * dropdown menus, checklists, tabs, sliders, placeholders for plotly figures, etc...\n",
    "\n",
    "### Interactivity (Callback functions)\n",
    "\n",
    "* Functions that makes changes to layout\n",
    "* Almost any event within an application can be mapped to a **callback** function\n",
    "    * Ex: Country clicked in the data table loads three graphs to the right\n",
    "\n",
    "## Beginning a dash application\n",
    "\n",
    "* Written in a separate file \n",
    "* For this class, written in this notebook\n",
    "\n",
    "### Minimal dashboard\n",
    "\n",
    "Minimum of three lines of code to run\n",
    "\n",
    "* Create the application with `JupyterDash`\n",
    "* Set the `layout` attribute\n",
    "* Execute the `run_server` method with `mode` set to `\"inline\"`\n",
    "\n",
    "Create an h2 HTML element\n",
    "\n",
    "[0]: https://www.sublimetext.com/\n",
    "[1]: https://code.visualstudio.com/"
   ]
  },
  {
   "cell_type": "code",
   "execution_count": null,
   "id": "759d1bfd",
   "metadata": {
    "tags": [
     "1"
    ]
   },
   "outputs": [],
   "source": [
    "from jupyter_dash import JupyterDash\n",
    "from dash import html\n",
    "\n",
    "app = JupyterDash(__name__)\n",
    "app.layout = html.H2('Coronavirus Forecasting Dashboard')\n",
    "app.run_server(mode='inline', height=100, port=8051)"
   ]
  },
  {
   "cell_type": "markdown",
   "id": "12af8476",
   "metadata": {},
   "source": [
    "## Can view dashboard in browser\n",
    "\n",
    "Navigate to `localhost:8051`"
   ]
  },
  {
   "cell_type": "markdown",
   "id": "49908508",
   "metadata": {},
   "source": [
    "## HTML elements in dash\n",
    "\n",
    "* All normal HTML elements are available as Python classes from the `html` module in Dash\n",
    "    * `html.H1` ... `html.H6` - headers in decreasing size\n",
    "    * `html.A` - hyperlink\n",
    "    * `html.P` - paragraph\n",
    "    * `html.Div` - logical division\n",
    "* Use first argument as element's content\n",
    "* Use other parameters to set HTML attributes\n",
    "    * Ex: `href` for `html.A` links"
   ]
  },
  {
   "cell_type": "code",
   "execution_count": null,
   "id": "db4b51f4",
   "metadata": {
    "tags": [
     "2"
    ]
   },
   "outputs": [],
   "source": [
    "title = html.H2('Coronavirus Forecasting Dashboard')\n",
    "link = html.A('Visit live dashboard', href='https://coronavirus.dunderdata.com')\n",
    "layout = html.Div([title, link])\n",
    "\n",
    "app = JupyterDash(__name__)\n",
    "app.layout = layout\n",
    "app.run_server(mode='inline', height=300, port=8052)"
   ]
  },
  {
   "cell_type": "markdown",
   "id": "c06ed328",
   "metadata": {},
   "source": [
    "### Adding CSS\n",
    "\n",
    "* In actual project, CSS is kept in an external stylesheet, `style.css`\n",
    "* No `html.Style` class\n",
    "* Must use `style` parameter of individual element"
   ]
  },
  {
   "cell_type": "code",
   "execution_count": null,
   "id": "d321d053",
   "metadata": {
    "tags": [
     "3"
    ]
   },
   "outputs": [],
   "source": [
    "title = html.H2('Coronavirus Forecasting Dashboard', \n",
    "                style={\n",
    "                    'background-color': 'tan',\n",
    "                    'font-family': 'verdana',\n",
    "                    'text-align': 'center'\n",
    "                }\n",
    "               )\n",
    "link = html.A('Visit live dashboard', href='https://coronavirus.dunderdata.com')\n",
    "layout = html.Div([title, link])\n",
    "\n",
    "app = JupyterDash(__name__)\n",
    "app.layout = layout\n",
    "app.run_server(mode='inline', height=100, port=8053)"
   ]
  },
  {
   "cell_type": "markdown",
   "id": "4040168d",
   "metadata": {},
   "source": [
    "## Creating a data table\n",
    "\n",
    "* Separate module, `dash_table`, contains the `DataTable` class to create interactive tables of data\n",
    "* [Official documentation][0] \n",
    "\n",
    "Many parameters\n",
    "\n",
    "* `data` - List of dictionaries where each list represents one row. \n",
    "    * Use `df.to_dict('records')` to convert DataFrames\n",
    "* `columns` - List of dictionaries where each item represents information (name, id, type, format, etc...) on one column. \n",
    "    * `[{'name': name, 'id': name} for name in df.columns]`\n",
    "* `sort_action` - Allow sorting of columns by setting to string `'native'`\n",
    "* `active_cell` - Initial active cell - will be highlighted - `{\"row\": 0, \"column\": 0}`\n",
    "* `style_table` - CSS for `table` HTML element (not for individual rows, columns, or cells)\n",
    "* `style_cell` - CSS for ALL cells\n",
    "* `style_header` - CSS for only the header (columns)\n",
    "* `style_data` - CSS for only the data\n",
    "* `style_data_conditional` - CSS based on if/else condition\n",
    "    * `{\"if\": {\"column_id\": first_col}, \"width\": \"120px\", \"textAlign\": \"left\"}`\n",
    "* `fixed_rows` - Keep the first `n` rows fixed when scrolling down. Mainly used to keep the column names on top.\n",
    "    * `{ 'headers': True, 'data': n }`\n",
    "\n",
    "[0]: https://dash.plotly.com/datatable"
   ]
  },
  {
   "cell_type": "markdown",
   "id": "11ebeb8a",
   "metadata": {},
   "source": [
    "### Display Summary as Dash DataTable\n",
    "\n",
    "* Read in the summary table as a pandas DataFrame placing the group (either \"world\" or usa\") in the index\n",
    "* It has one row per area for the \"current\" date."
   ]
  },
  {
   "cell_type": "code",
   "execution_count": null,
   "id": "172780ff",
   "metadata": {},
   "outputs": [],
   "source": [
    "import pandas as pd\n",
    "SUMMARY = pd.read_csv(\"data/summary.csv\", index_col=\"group\", parse_dates=[\"date\"])\n",
    "SUMMARY.head(3)"
   ]
  },
  {
   "cell_type": "markdown",
   "id": "adc20c2a",
   "metadata": {},
   "source": [
    "Select a group and subset of the columns"
   ]
  },
  {
   "cell_type": "code",
   "execution_count": null,
   "id": "f2865790",
   "metadata": {},
   "outputs": [],
   "source": [
    "group = \"world\"\n",
    "used_columns = [\"area\", \"Deaths\", \"Cases\", \"Deaths per Million\", \"Cases per Million\"]\n",
    "df = SUMMARY.loc[group, used_columns]\n",
    "df = df.rename(columns={\"area\": \"Country\"})\n",
    "df.head(3)"
   ]
  },
  {
   "cell_type": "markdown",
   "id": "20ffc86f",
   "metadata": {},
   "source": [
    "### Formatting the columns\n",
    "\n",
    "* List of dictionaries\n",
    "* `name` - visible label for column\n",
    "* `id` - internal identification)\n",
    "* `type` - \"any\", \"numeric\", \"text\", or \"datetime\"\n",
    "* `format` to a dictionary that uses the key `specifier` to set the formatting (based on [D3 format][1])\n",
    "\n",
    "First column is text, rest are numeric\n",
    "\n",
    "[1]: https://github.com/d3/d3-format"
   ]
  },
  {
   "cell_type": "code",
   "execution_count": null,
   "id": "ff2a385f",
   "metadata": {},
   "outputs": [],
   "source": [
    "columns = [{\"name\": \"Country\", \n",
    "            \"id\": \"Country\", \n",
    "            \"type\": \"text\"}]\n",
    "for name in df.columns[1:]:\n",
    "    col_info = {\n",
    "        \"name\": name,\n",
    "        \"id\": name,\n",
    "        \"type\": \"numeric\",\n",
    "        \"format\": {'specifier': ','}\n",
    "    }\n",
    "    columns.append(col_info)"
   ]
  },
  {
   "cell_type": "markdown",
   "id": "37e85191",
   "metadata": {},
   "source": [
    "Sort by deaths and convert DataFrame to list of dictionaries"
   ]
  },
  {
   "cell_type": "code",
   "execution_count": null,
   "id": "c3dc3e95",
   "metadata": {},
   "outputs": [],
   "source": [
    "data = df.sort_values(\"Deaths\", ascending=False).to_dict(\"records\")\n",
    "data[:3]"
   ]
  },
  {
   "cell_type": "markdown",
   "id": "f136699e",
   "metadata": {},
   "source": [
    "### Notes on table\n",
    "\n",
    "* `active_cell` highlights and makes the first cell active\n",
    "* Use conditional styling to underline values in the first column and turn the cursor into a pointer (inform user that it is clickable)"
   ]
  },
  {
   "cell_type": "markdown",
   "id": "e33b0401",
   "metadata": {},
   "source": [
    "### Create the table and add to layout"
   ]
  },
  {
   "cell_type": "code",
   "execution_count": null,
   "id": "d8343d95",
   "metadata": {
    "tags": [
     "4"
    ]
   },
   "outputs": [],
   "source": [
    "from dash import dash_table\n",
    "world_table = dash_table.DataTable(\n",
    "    id=f\"{group}-table\",\n",
    "    columns=columns,\n",
    "    data=data,\n",
    "    fixed_rows={\"headers\": True},\n",
    "    active_cell={\"row\": 0, \"column\": 0},\n",
    "    sort_action=\"native\",\n",
    "    derived_virtual_data=data,\n",
    "    style_table={\n",
    "        \"height\": \"80vh\",  # viewport (% of viewable height)\n",
    "        \"overflow-y\": \"scroll\"\n",
    "        },\n",
    "    style_cell={\n",
    "        \"white-space\": \"normal\",\n",
    "        \"height\":\"auto\",\n",
    "        \"font-family\": \"verdana\"\n",
    "    },\n",
    "    style_header={\n",
    "        \"text-align\": \"center\",\n",
    "        \"font-size\": 14\n",
    "    },\n",
    "    style_data={\n",
    "        \"font-size\": 12\n",
    "    },\n",
    "    style_data_conditional=[\n",
    "        {\n",
    "            \"if\": {\"column_id\": \"Country\"},\n",
    "            \"width\": \"120px\",\n",
    "            \"text-align\": \"left\",\n",
    "            \"text-decoration\": \"underline\",\n",
    "            \"cursor\": \"pointer\"\n",
    "        },\n",
    "        {\n",
    "            \"if\": {\"row_index\": \"odd\"}, \n",
    "            \"background-color\": \"#fafbfb\"\n",
    "        }\n",
    "    ],\n",
    ")\n",
    "layout = html.Div([title, world_table])\n",
    "\n",
    "app = JupyterDash(__name__)\n",
    "app.layout = layout\n",
    "app.run_server(mode='inline', height=500, port=8054)"
   ]
  },
  {
   "cell_type": "markdown",
   "id": "f340d838",
   "metadata": {},
   "source": [
    "The function below encapsulates all of our work from above and is nearly identical to the one found in `dashboard.py`."
   ]
  },
  {
   "cell_type": "code",
   "execution_count": null,
   "id": "795826b5",
   "metadata": {},
   "outputs": [],
   "source": [
    "from dash.dash_table import DataTable\n",
    "\n",
    "def create_table(group):\n",
    "    used_columns = [\n",
    "        \"area\",\n",
    "        \"Deaths\",\n",
    "        \"Cases\",\n",
    "        \"Deaths per Million\",\n",
    "        \"Cases per Million\",\n",
    "    ]\n",
    "    df = SUMMARY.loc[group, used_columns]\n",
    "    first_col = \"Country\" if group == \"world\" else \"State\"\n",
    "    df = df.rename(columns={\"area\": first_col})\n",
    "\n",
    "    columns = [{\"name\": first_col, \"id\": first_col}]\n",
    "    for name in df.columns[1:]:\n",
    "        col_info = {\n",
    "            \"name\": name,\n",
    "            \"id\": name,\n",
    "            \"type\": \"numeric\",\n",
    "            \"format\": {'specifier': ','},\n",
    "        }\n",
    "        columns.append(col_info)\n",
    "\n",
    "    data = df.sort_values(\"Deaths\", ascending=False).to_dict(\"records\")\n",
    "    return DataTable(\n",
    "        id=f\"{group}-table\",\n",
    "        columns=columns,\n",
    "        data=data,\n",
    "        active_cell={\"row\": 0, \"column\": 0},\n",
    "        fixed_rows={\"headers\": True},\n",
    "        sort_action=\"native\",\n",
    "        derived_virtual_data=data,\n",
    "        style_table={\n",
    "            \"height\": \"80vh\",\n",
    "            \"overflow-y\": \"scroll\",\n",
    "            \"border-radius\": \"0px 0px 10px 10px\",\n",
    "        },\n",
    "        style_cell={\n",
    "            \"white-space\": \"normal\",\n",
    "            \"height\": \"auto\",\n",
    "            \"font-family\": \"verdana\",\n",
    "        },\n",
    "        style_header={\n",
    "            \"textAlign\": \"center\",\n",
    "            \"fontSize\": 14,\n",
    "        },\n",
    "        style_data={\n",
    "            \"fontSize\": 12,\n",
    "        },\n",
    "        style_data_conditional=[\n",
    "            {\n",
    "                \"if\": {\"column_id\": first_col},\n",
    "                \"width\": \"120px\",\n",
    "                \"text-align\": \"left\",\n",
    "                \"text-decoration\": \"underline\",\n",
    "                \"cursor\": \"pointer\",\n",
    "            },\n",
    "            {\n",
    "                \"if\": {\"row_index\": \"odd\"}, \n",
    "                \"background-color\": \"#fafbfb\"\n",
    "            }\n",
    "        ],\n",
    "    )"
   ]
  },
  {
   "cell_type": "markdown",
   "id": "2dbe5823",
   "metadata": {},
   "source": [
    "### Create both world and USA tables"
   ]
  },
  {
   "cell_type": "code",
   "execution_count": null,
   "id": "7834579b",
   "metadata": {},
   "outputs": [],
   "source": [
    "world_table = create_table(\"world\")\n",
    "usa_table = create_table(\"usa\")"
   ]
  },
  {
   "cell_type": "markdown",
   "id": "e1836201",
   "metadata": {},
   "source": [
    "## Dash core components\n",
    "\n",
    "* Separate `dcc` module\n",
    "* More complex interactive components\n",
    "\n",
    "\n",
    "###  Creating tabs\n",
    "\n",
    "* `dcc.Tab` - individual tab. Contains actual content (like our DataTable)\n",
    "* `dcc.Tabs` - list of `dcc.Tab`\n",
    "\n",
    "### Function to create individual tabs\n",
    "\n",
    "* Separate CSS class name when selected\n",
    "\n",
    "[1]: https://dash.plotly.com/dash-core-components"
   ]
  },
  {
   "cell_type": "code",
   "execution_count": null,
   "id": "dc85db70",
   "metadata": {},
   "outputs": [],
   "source": [
    "from dash import dcc\n",
    "\n",
    "def create_tab(content, label, value):\n",
    "    return dcc.Tab(\n",
    "        content,\n",
    "        label=label,\n",
    "        value=value,\n",
    "        id=f\"{value}-tab\",\n",
    "        className=\"single-tab\",\n",
    "        selected_className=\"single-tab--selected\",\n",
    "    )\n",
    "\n",
    "world_tab = create_tab(world_table, \"World\", \"world\")\n",
    "usa_tab = create_tab(usa_table, \"US States\", \"usa\")"
   ]
  },
  {
   "cell_type": "markdown",
   "id": "ea4d8cf5",
   "metadata": {},
   "source": [
    "### Place both tabs in one container\n",
    "\n",
    "We pass the individual tabs as a list to the `Tabs` component and update our layout to show the tabs with the tables."
   ]
  },
  {
   "cell_type": "code",
   "execution_count": null,
   "id": "34a240a5",
   "metadata": {
    "tags": [
     "5"
    ]
   },
   "outputs": [],
   "source": [
    "table_tabs = dcc.Tabs(\n",
    "    [world_tab, usa_tab], \n",
    "    className=\"tabs-container\", \n",
    "    id=\"table-tabs\",\n",
    "    value=\"world\"\n",
    ")\n",
    "layout = html.Div([title, table_tabs])\n",
    "\n",
    "app = JupyterDash(__name__)\n",
    "app.layout = layout\n",
    "app.run_server(mode='inline', height=500, port=8055)"
   ]
  },
  {
   "cell_type": "markdown",
   "id": "f85d0417",
   "metadata": {},
   "source": [
    "## Adding plotly figures with `dcc.Graph`\n",
    "\n",
    "* Create a plotly figure\n",
    "* Pass it to `dcc.Graph`"
   ]
  },
  {
   "cell_type": "code",
   "execution_count": null,
   "id": "36039fee",
   "metadata": {},
   "outputs": [],
   "source": [
    "ALL_DATA = pd.read_csv(\"data/all_data.csv\", \n",
    "                       index_col=[\"group\", \"area\", \"date\"], \n",
    "                       parse_dates=[\"date\"]).sort_index()\n",
    "ALL_DATA.head()"
   ]
  },
  {
   "cell_type": "markdown",
   "id": "8752f31f",
   "metadata": {},
   "source": [
    "### Functions to create three graphs\n",
    "\n",
    "* `create_figures` - creates three empty plotly figures with two plots each\n",
    "* `make_cumulative_graphs` - cumulative line graphs of total deaths/cases\n",
    "* `make_daily_graphs` - daily bar chart of deaths/cases\n",
    "* `make_weekly_graphs` - aggregated weekly totals of deaths/cases\n",
    "* `create_graphs` - runs the above four functions and returns three completed figures."
   ]
  },
  {
   "cell_type": "code",
   "execution_count": null,
   "id": "b6f0dce7",
   "metadata": {},
   "outputs": [],
   "source": [
    "from plotly.subplots import make_subplots\n",
    "from plotly.colors import qualitative\n",
    "COLORS = qualitative.T10[:2]\n",
    "LAST_DATE = SUMMARY['date'].iloc[-1]\n",
    "FIRST_PRED_DATE = LAST_DATE + pd.Timedelta('1D')\n",
    "\n",
    "def create_figures(title, n=3):\n",
    "    figs = []\n",
    "    annot_props = {\"x\": 0.1, \"xref\": \"paper\", \"yref\": \"paper\", \"xanchor\": \"left\",\n",
    "                   \"showarrow\": False, \"font\": {\"size\": 18}}\n",
    "    for _ in range(n):\n",
    "        fig = make_subplots(rows=2, cols=1, vertical_spacing=0.1)\n",
    "        fig.update_layout(\n",
    "            title={\"text\": title, \"x\": 0.5, \"y\": 0.97, \"font\": {\"size\": 20}},\n",
    "            annotations=[\n",
    "                {\"y\": 0.95, \"text\": \"<b>Deaths</b>\"},\n",
    "                {\"y\": 0.3, \"text\": \"<b>Cases</b>\"},\n",
    "            ],\n",
    "            margin={\"t\": 40, \"l\": 50, \"r\": 10, \"b\": 0},\n",
    "            legend={\"x\": 0.5, \"y\": -0.05, \"xanchor\": \"center\", \"orientation\": \"h\",\n",
    "                    \"font\": {\"size\": 15}})\n",
    "        fig.update_traces(hovertemplate=\"%{x} - %{y:,}\")\n",
    "        fig.update_annotations(annot_props)\n",
    "        figs.append(fig)\n",
    "    return figs\n",
    "\n",
    "def make_cumulative_graphs(fig, df_dict, kinds):\n",
    "    for row, kind in enumerate(kinds, start=1):\n",
    "        for i, (name, df) in enumerate(df_dict.items()):\n",
    "            fig.add_scatter(x=df.index, y=df[kind], mode=\"lines+markers\", \n",
    "                            showlegend=row==1, line={\"color\": COLORS[i]}, \n",
    "                            name=name, row=row, col=1)\n",
    "\n",
    "def make_daily_graphs(fig, df_dict, kinds):\n",
    "    for row, kind in enumerate(kinds, start=1):\n",
    "        for i, (name, df) in enumerate(df_dict.items()):\n",
    "            fig.add_bar(x=df.index, y=df[kind], marker={\"color\": COLORS[i]},\n",
    "                        showlegend=row==1, name=name, row=row, col=1)\n",
    "\n",
    "def make_weekly_graphs(fig, df_dict, kinds):\n",
    "    offset = \"W-\" + LAST_DATE.strftime(\"%a\").upper()\n",
    "    df_dict = {name: df.resample(offset, kind=\"timestamp\", closed=\"right\")[kinds].sum()\n",
    "               for name, df in df_dict.items()}\n",
    "\n",
    "    for row, kind in enumerate(kinds, start=1):\n",
    "        for i, (name, df) in enumerate(df_dict.items()):\n",
    "            fig.add_scatter(x=df.index, y=df[kind], mode=\"lines+markers\",\n",
    "                            showlegend=row==1, line={\"color\": COLORS[i]},\n",
    "                            name=name, row=row, col=1)\n",
    "            \n",
    "def create_graphs(group, area):\n",
    "    df = ALL_DATA.loc[(group, area)]\n",
    "    df_dict = {\"actual\": df.loc[:LAST_DATE], \"prediction\": df.loc[FIRST_PRED_DATE:]}\n",
    "    kinds = [\"Deaths\", \"Cases\"]\n",
    "    new_kinds = [\"Daily Deaths\", \"Daily Cases\"]\n",
    "    figs = create_figures(area)\n",
    "    make_cumulative_graphs(figs[0], df_dict, kinds)\n",
    "    make_daily_graphs(figs[1], df_dict, new_kinds)\n",
    "    make_weekly_graphs(figs[2], df_dict, new_kinds)\n",
    "    return figs"
   ]
  },
  {
   "cell_type": "markdown",
   "id": "0b08fb5a",
   "metadata": {},
   "source": [
    "Let's choose one area to make the three graphs."
   ]
  },
  {
   "cell_type": "code",
   "execution_count": null,
   "id": "005344e1",
   "metadata": {},
   "outputs": [],
   "source": [
    "figs = create_graphs('usa', 'Texas')"
   ]
  },
  {
   "cell_type": "markdown",
   "id": "eb4ffd7c",
   "metadata": {},
   "source": [
    "Here are the cumulative line graphs for cases in deaths as a plotly figure. This is independent of dash at this point."
   ]
  },
  {
   "cell_type": "code",
   "execution_count": null,
   "id": "74189cc0",
   "metadata": {},
   "outputs": [],
   "source": [
    "figs[0]"
   ]
  },
  {
   "cell_type": "markdown",
   "id": "16002590",
   "metadata": {},
   "source": [
    "Daily bar graph:"
   ]
  },
  {
   "cell_type": "code",
   "execution_count": null,
   "id": "4aa53603",
   "metadata": {
    "scrolled": false
   },
   "outputs": [],
   "source": [
    "figs[1]"
   ]
  },
  {
   "cell_type": "markdown",
   "id": "bc7af646",
   "metadata": {},
   "source": [
    "Weekly aggregate line graph:"
   ]
  },
  {
   "cell_type": "code",
   "execution_count": null,
   "id": "df7cf38c",
   "metadata": {
    "scrolled": false
   },
   "outputs": [],
   "source": [
    "figs[2]"
   ]
  },
  {
   "cell_type": "markdown",
   "id": "5876be3c",
   "metadata": {},
   "source": [
    "### Use CSS grid layout\n",
    "\n",
    "* Set `figure` parameter of `dcc.Graph` to be one of the plotly figures \n",
    "* Create `div` containing tables and graphs\n",
    "    * By default, these are block-level elements (placed vertically)\n",
    "    * Set `display` to `grid` to display tables and graph in a grid\n",
    "    * [More info on CSS grid](https://css-tricks.com/snippets/css/complete-guide-grid/)\n",
    "* Create a 2 x 2 grid with `grid-template-areas`\n",
    "\n",
    "```css\n",
    "\"tables graphs\"\n",
    "\"tables maps\"\n",
    "```"
   ]
  },
  {
   "cell_type": "code",
   "execution_count": null,
   "id": "8ffd0ec5",
   "metadata": {
    "tags": [
     "6"
    ]
   },
   "outputs": [],
   "source": [
    "cumulative_graph = dcc.Graph(figure=figs[0], style={'grid-area': \"graphs\"})\n",
    "table_tabs.style = {'grid-area': \"tables\"}\n",
    "container = html.Div([table_tabs, cumulative_graph], \n",
    "                     style={'display': 'grid',\n",
    "                            'grid-template-areas': '\"tables graphs\" '\n",
    "                                                   '\"tables maps\"',\n",
    "                            'grid-template-columns': \"50vw 50vw\",\n",
    "                            'column-gap': '10px'})\n",
    "layout = html.Div([title, container])\n",
    "\n",
    "app = JupyterDash(__name__)\n",
    "app.layout = layout\n",
    "app.run_server(mode='inline', height=600, port=8056)"
   ]
  },
  {
   "cell_type": "markdown",
   "id": "671f891b",
   "metadata": {},
   "source": [
    "### Use tabs to contain all three graphs"
   ]
  },
  {
   "cell_type": "code",
   "execution_count": null,
   "id": "08ef0b97",
   "metadata": {
    "tags": [
     "7"
    ]
   },
   "outputs": [],
   "source": [
    "cumulative_graph = dcc.Graph(figure=figs[0], id=\"cumulative-graph\")\n",
    "daily_graph = dcc.Graph(figure=figs[1], id=\"daily-graph\")\n",
    "weekly_graph = dcc.Graph(figure=figs[2], id=\"weekly-graph\")\n",
    "\n",
    "cumulative_tab = create_tab(cumulative_graph, \"Cumulative\", \"cumulative\")\n",
    "daily_tab = create_tab(daily_graph, \"Daily\", \"daily\")\n",
    "weekly_tab = create_tab(weekly_graph, \"Weekly\", \"weekly\")\n",
    "\n",
    "graph_tabs = dcc.Tabs(\n",
    "    [cumulative_tab, daily_tab, weekly_tab],\n",
    "    className=\"tabs-container\",\n",
    "    id=\"graph-tabs\",\n",
    "    value=\"cumulative\",\n",
    "    style={'gridArea': 'graphs', 'margin': '0px'}\n",
    ")\n",
    "\n",
    "container = html.Div([table_tabs, graph_tabs], \n",
    "                     style={'display': 'grid',\n",
    "                            'grid-template-areas': '\"tables graphs\" '\n",
    "                                                   '\"tables maps\"',\n",
    "                            'grid-template-columns': \"50vw 50vw\",\n",
    "                            'column-gap': '10px'})\n",
    "layout = html.Div([title, container])\n",
    "\n",
    "app = JupyterDash(__name__)\n",
    "app.layout = layout\n",
    "app.run_server(mode='inline', height=600, port=8057)"
   ]
  },
  {
   "cell_type": "markdown",
   "id": "231e2d37",
   "metadata": {},
   "source": [
    "## Adding the maps\n",
    "\n",
    "The last main component of the dashboard are the world and USA maps. Here, we copy the code from a previous chapter that creates the maps with custom hover text."
   ]
  },
  {
   "cell_type": "code",
   "execution_count": null,
   "id": "4d4c3a28",
   "metadata": {},
   "outputs": [],
   "source": [
    "import plotly.graph_objects as go\n",
    "\n",
    "def hover_text(x):\n",
    "    name = x[\"area\"]\n",
    "    deaths = x[\"Deaths\"]\n",
    "    cases = x[\"Cases\"]\n",
    "    deathsm = x[\"Deaths per Million\"]\n",
    "    casesm = x[\"Cases per Million\"]\n",
    "    return (\n",
    "        f\"<b>{name}</b><br>\"\n",
    "        f\"Deaths - {deaths:,.0f}<br>\"\n",
    "        f\"Cases - {cases:,.0f}<br>\"\n",
    "        f\"Deaths per Million - {deathsm:,.0f}<br>\"\n",
    "        f\"Cases per Million - {casesm:,.0f}<br>\"\n",
    "    )\n",
    "\n",
    "def create_map(group, radio_value):\n",
    "    df = SUMMARY.loc[group].query(\"population > 0.5\")\n",
    "    lm = None if group == \"world\" else \"USA-states\"\n",
    "    proj = \"robinson\" if group == \"world\" else \"albers usa\"\n",
    "\n",
    "    fig = go.Figure()\n",
    "    fig.add_choropleth(\n",
    "        locations=df[\"code\"],\n",
    "        z=df[radio_value],\n",
    "        zmin=0,\n",
    "        locationmode=lm,\n",
    "        colorscale=\"orrd\",\n",
    "        marker_line_width=0.5,\n",
    "        text=df.apply(hover_text, axis=1),\n",
    "        hoverinfo=\"text\",\n",
    "        colorbar=dict(len=0.6, x=1, y=0.5),\n",
    "    )\n",
    "    fig.update_layout(\n",
    "        geo={\n",
    "            \"lataxis\": {\"range\": [-50, 68]},\n",
    "            \"lonaxis\": {\"range\": [-130, 150]},\n",
    "            \"projection\": {\"type\": proj},\n",
    "            \"showframe\": False,\n",
    "        },\n",
    "        margin={\"t\": 0, \"l\": 10, \"r\": 10, \"b\": 0},\n",
    "    )\n",
    "    return fig"
   ]
  },
  {
   "cell_type": "markdown",
   "id": "0953c82c",
   "metadata": {},
   "source": [
    "Now we create a single map and color it by deaths per million."
   ]
  },
  {
   "cell_type": "code",
   "execution_count": null,
   "id": "0c1d0fca",
   "metadata": {},
   "outputs": [],
   "source": [
    "fig_map = create_map('world', 'Deaths per Million')\n",
    "fig_map"
   ]
  },
  {
   "cell_type": "markdown",
   "id": "3d3672fc",
   "metadata": {},
   "source": [
    "## Adding radio buttons above the map\n",
    "\n",
    "* Dashboard allows the user to choose the coloring of the map with four radio buttons\n",
    "* Dash core components (`dcc`) has radio buttons, but does not provide a way to change the style whenever the radio button is checked\n",
    "\n",
    "### Dash Bootstrap Components\n",
    "\n",
    "* The third-party library [Dash Bootstrap Components][1] has many components for dash that are built using [Bootstrap][2] (popular CSS and JavaScript library)\n",
    "* Provides `labelCheckedStyle` so that a separate style can be applied to selected radio button\n",
    "\n",
    "[1]: https://dash-bootstrap-components.opensource.faculty.ai/\n",
    "[2]: https://getbootstrap.com/"
   ]
  },
  {
   "cell_type": "code",
   "execution_count": null,
   "id": "73b1458b",
   "metadata": {
    "tags": [
     "8"
    ]
   },
   "outputs": [],
   "source": [
    "import dash_bootstrap_components as dbc\n",
    "\n",
    "radio_items = dbc.RadioItems(\n",
    "    options=[\n",
    "        {\"label\": \"Deaths\", \"value\": \"Deaths\"},\n",
    "        {\"label\": \"Cases\", \"value\": \"Cases\"},\n",
    "        {\"label\": \"Deaths per Million\", \"value\": \"Deaths per Million\"},\n",
    "        {\"label\": \"Cases per Million\", \"value\": \"Cases per Million\"},\n",
    "    ],\n",
    "    value=\"Deaths\",\n",
    "    id=\"map-radio-items\",\n",
    "    style={'display': 'flex', \n",
    "           'justify-content': 'space-evenly', \n",
    "           'background-color': '#212529', \n",
    "           'color': '#798d8f'},\n",
    "    labelCheckedStyle={'font-weight': 800, 'color': 'white'}\n",
    ")\n",
    "\n",
    "app = JupyterDash(__name__)\n",
    "app.layout = radio_items\n",
    "app.run_server(mode='inline', height=50, port=8058)"
   ]
  },
  {
   "cell_type": "markdown",
   "id": "b71cddf2",
   "metadata": {},
   "source": [
    "### Add radio buttons to layout"
   ]
  },
  {
   "cell_type": "code",
   "execution_count": null,
   "id": "b9c1e9f6",
   "metadata": {
    "tags": [
     "9"
    ]
   },
   "outputs": [],
   "source": [
    "cumulative_graph.style = {'height': '40vh'}\n",
    "daily_graph.style = {'height': '40vh'}\n",
    "weekly_graph.style = {'height': '40vh'}\n",
    "\n",
    "map_graph = dcc.Graph(figure=fig_map, id=\"map-graph\", style={'height': '40vh'})\n",
    "map_div = html.Div([radio_items, map_graph], style={'gridArea': 'maps'})\n",
    "container = html.Div([table_tabs, graph_tabs, map_div], \n",
    "                     style={'display': 'grid',\n",
    "                            'grid-template-areas': '\"tables graphs\" '\n",
    "                                                   '\"tables maps\"',\n",
    "                            'grid-template-columns': \"50vw 50vw\",\n",
    "                            'grid-template-rows': \"50vh 40vh\",\n",
    "                            'column-gap': '10px',\n",
    "                            })\n",
    "layout = html.Div([title, container])\n",
    "\n",
    "app = JupyterDash(__name__)\n",
    "app.layout = layout\n",
    "app.run_server(mode='inline', height=800, port=8059)"
   ]
  },
  {
   "cell_type": "markdown",
   "id": "039f0b80",
   "metadata": {},
   "source": [
    "## Interactivity using callbacks\n",
    "\n",
    "* The **layout** is complete\n",
    "* Moving on to he **interactivity**\n",
    "* Code for the interactivity MUST appear after `app.layout` has been set\n",
    "* Interactivity is user-defined functions that get triggered from a dashboard event (button click)\n",
    "\n",
    "### Writing a callback\n",
    "\n",
    "* `app.callback` method decorates the function and takes three main arguments:\n",
    "    * Outputs - A list of layout components to be changed\n",
    "    * Inputs - A list of layout components that trigger the function\n",
    "    * States - A list of non-triggered layout components to pass to the function\n",
    "* Function defined with one parameter for every input\n",
    "* Function must return the number of outputs\n",
    "\n",
    "### `Output`, `Input`, and `State`\n",
    "\n",
    "* `Output`, `Input`, and `State`\n",
    "    * Describe the arguments to your callback function, and the return values\n",
    "    * Found in `dash.dependencies` module\n",
    "    * Require two arguments\n",
    "        * **id** of the component\n",
    "        * targeted **property**\n",
    "        \n",
    "Examples:\n",
    "\n",
    "* `Output(\"cumulative-graph\", \"figure\")`\n",
    "    * Component with id of \"cumulative-graph\" should have its \"figure\" property replaced with a returned value\n",
    "* `Input('world-table', 'active_cell')`\n",
    "    * Trigger the function whenever the `active_cell` property of the component with id \"world-table\" is changed\n",
    "* `State('world-table', 'derived_virtual_data')`\n",
    "    * Tells dash to pass the value of the property `derived_virtual_data` of the component with id `\"world-table\"` to the function.\n",
    "    `State` does not trigger the function. Just passes extra data to function\n",
    "* Callback function name and parameter names can be anything\n",
    "\n",
    "\n",
    "### `data` vs `derived_virtual_data`\n",
    "\n",
    "Both are properties of a DataTable\n",
    "\n",
    "* `data` is static\n",
    "* `derived_virtual_data` is **dynamic** and matches data that user sees\n",
    "\n",
    "### All callbacks called when dashboard starts\n",
    "\n",
    "* Savs you from repeating code\n",
    "* Don't have to set the components that will change during callback\n",
    "\n",
    "### Callback for the graphs in top right\n",
    "\n",
    "The three graphs in the top right of our dashboard change whenever the use clicks an area in the table\n",
    "\n",
    "* Need to return three plotly figures\n",
    "* Input is the active cell of the table (when changed)\n",
    "    * Only provided the row and column as a dictionary\n",
    "    * First argument to function\n",
    "* Also passed the `derived_virtual_data` (list of dictionaries)\n",
    "    * Second argument to function"
   ]
  },
  {
   "cell_type": "code",
   "execution_count": null,
   "id": "17b9133f",
   "metadata": {
    "scrolled": false,
    "tags": [
     "9"
    ]
   },
   "outputs": [],
   "source": [
    "from dash.dependencies import Output, Input, State\n",
    "\n",
    "app = JupyterDash(__name__)\n",
    "app.layout = layout\n",
    "\n",
    "@app.callback(\n",
    "    [\n",
    "        Output(\"cumulative-graph\", \"figure\"),\n",
    "        Output(\"daily-graph\", \"figure\"),\n",
    "        Output(\"weekly-graph\", \"figure\"),\n",
    "    ],\n",
    "    [\n",
    "        Input('world-table', 'active_cell')\n",
    "    ],\n",
    "    [\n",
    "        State('world-table', 'derived_virtual_data')\n",
    "    ]\n",
    ")\n",
    "def change_area_graphs(world_cell, world_data):\n",
    "    \"\"\"\n",
    "    Change the all three graphs in the upper right hand corner of the app\n",
    "    \n",
    "    Parameters\n",
    "    ----------\n",
    "    world_cell : dict with keys `row` and `cell` mapped to integers of cell location\n",
    "    \n",
    "    world_data : list of dicts of one country per row.\n",
    "                     Has keys Country, Deaths, Cases, Deaths per Million, Cases per Million\n",
    "                     \n",
    "    Returns\n",
    "    -------\n",
    "    List of three plotly figures, one for each of the `Output`\n",
    "    \"\"\"\n",
    "    row_number = world_cell[\"row\"]\n",
    "    row_data = world_data[row_number]\n",
    "    country = row_data['Country']\n",
    "    print(\"active_cell\", world_cell, \n",
    "          \"\\nrow_number\", row_number, \n",
    "          \"\\nrow_data\", row_data, \n",
    "          \"\\ncountry\", country)\n",
    "    return create_graphs('world', country)\n",
    "    \n",
    "app.run_server(mode='inline', height=800, port=8060)"
   ]
  },
  {
   "cell_type": "markdown",
   "id": "e7be2387",
   "metadata": {},
   "source": [
    "### Single Callback for updating both World and USA data\n",
    "\n",
    "* A component may only appear as an output in exactly **one** callback\n",
    "* Cannot have separate callbacks for the world and USA tables (they update same graphs)\n",
    "* Must rewrite callback\n",
    "    * Triggered when:\n",
    "        * World table changes\n",
    "        * USA table changes\n",
    "        * Table tab switches\n",
    "* Logic to prevent update\n",
    "    * Only allow first column to trigger\n",
    "    * Sometimes active cell is `None` (after sorting)\n",
    "    * Must raise `PreventUpdate` exception"
   ]
  },
  {
   "cell_type": "code",
   "execution_count": null,
   "id": "d2a9e342",
   "metadata": {
    "scrolled": false,
    "tags": [
     "9"
    ]
   },
   "outputs": [],
   "source": [
    "from dash.exceptions import PreventUpdate\n",
    "\n",
    "app = JupyterDash(__name__)\n",
    "app.layout = layout\n",
    "\n",
    "@app.callback(\n",
    "    [\n",
    "        Output(\"cumulative-graph\", \"figure\"),\n",
    "        Output(\"daily-graph\", \"figure\"),\n",
    "        Output(\"weekly-graph\", \"figure\"),\n",
    "    ],\n",
    "    [\n",
    "        Input(\"world-table\", \"active_cell\"),\n",
    "        Input(\"usa-table\", \"active_cell\"),\n",
    "        Input(\"table-tabs\", \"value\"),\n",
    "    ],\n",
    "    [\n",
    "        State(\"world-table\", \"derived_virtual_data\"),\n",
    "        State(\"usa-table\", \"derived_virtual_data\"),\n",
    "    ],\n",
    ")\n",
    "def change_area_graphs(world_cell, usa_cell, group, world_data, usa_data):\n",
    "    area, cell, data = \"Country\", world_cell, world_data\n",
    "    if group == \"usa\":\n",
    "        area, cell, data = \"State\", usa_cell, usa_data\n",
    "    if cell and cell[\"column\"] == 0:\n",
    "        country_state = data[cell[\"row\"]][area]\n",
    "        return create_graphs(group, country_state)\n",
    "    else:\n",
    "        raise PreventUpdate\n",
    "        \n",
    "app.run_server(mode='inline', height=800, port=8061)"
   ]
  },
  {
   "cell_type": "markdown",
   "id": "a3d623d1",
   "metadata": {},
   "source": [
    "## Callback to change the map\n",
    "\n",
    "* Need one more callback to change the map and/or its coloring\n",
    "* This function gets triggered when:\n",
    "    * The table tabs change\n",
    "    * The radio items is clicked\n",
    "* Return a single figure using our `create_map` function defined above"
   ]
  },
  {
   "cell_type": "code",
   "execution_count": null,
   "id": "eee3fc93",
   "metadata": {
    "tags": [
     "9"
    ]
   },
   "outputs": [],
   "source": [
    "app = JupyterDash(__name__)\n",
    "app.layout = layout\n",
    "\n",
    "@app.callback(\n",
    "    [\n",
    "        Output(\"cumulative-graph\", \"figure\"),\n",
    "        Output(\"daily-graph\", \"figure\"),\n",
    "        Output(\"weekly-graph\", \"figure\"),\n",
    "    ],\n",
    "    [\n",
    "        Input(\"world-table\", \"active_cell\"),\n",
    "        Input(\"usa-table\", \"active_cell\"),\n",
    "        Input(\"table-tabs\", \"value\"),\n",
    "    ],\n",
    "    [\n",
    "        State(\"world-table\", \"derived_virtual_data\"),\n",
    "        State(\"usa-table\", \"derived_virtual_data\"),\n",
    "    ],\n",
    ")\n",
    "def change_area_graphs(world_cell, usa_cell, group, world_data, usa_data):\n",
    "    area, cell, data = \"Country\", world_cell, world_data\n",
    "    if group == \"usa\":\n",
    "        area, cell, data = \"State\", usa_cell, usa_data\n",
    "    if cell and cell[\"column\"] == 0:\n",
    "        country_state = data[cell[\"row\"]][area]\n",
    "        return create_graphs(group, country_state)\n",
    "    else:\n",
    "        raise PreventUpdate\n",
    "\n",
    "@app.callback(\n",
    "    Output(\"map-graph\", \"figure\"),\n",
    "    [\n",
    "        Input(\"table-tabs\", \"value\"), \n",
    "        Input(\"map-radio-items\", \"value\")\n",
    "    ],\n",
    ")\n",
    "def change_map(group, radio_value):\n",
    "    return create_map(group, radio_value)\n",
    "\n",
    "app.run_server(mode='inline', height=800, port=8062)"
   ]
  },
  {
   "cell_type": "markdown",
   "id": "40ec5e68",
   "metadata": {},
   "source": [
    "### Differences between this tutorial and `dashboard.py`\n",
    "\n",
    "Open the `dashboard.py` file and review the code. It is largely the same as it was presented in this tutorial, however, there are a few differences:\n",
    "\n",
    "* The dash application is instantiated with `Dash` from the library `dash` and not `JupyterDash`\n",
    "* All of the CSS (except for the data tables) has moved to assets/style.css\n",
    "* The CSS for Bootstrap (and any other external CSS) must be linked using the `external_stylesheets` parameter when instantiating `Dash`. It is set to a list of URLs containing CSS.\n",
    "* A new column in our CSS grid is added on the left. Four bootstrap \"cards\" from `dash_bootstrap_components` are placed in this column.\n",
    "* A navigation bar is added to the top of the page using `dash_bootstrap_components`\n",
    "* CSS is added to target screens with a width less than 1000px using a media query.\n",
    "    * Take a look at the bottom of assets/style.css. You'll see the following selector \n",
    "        * `@media only screen and (max-width: 1000px)`"
   ]
  },
  {
   "cell_type": "markdown",
   "id": "cb3f320a",
   "metadata": {},
   "source": [
    "## Dash Summary\n",
    "\n",
    "* Dash vs Plotly \n",
    "    * Dash builds the dashboard application with HTML components and provides interactivity with callbacks\n",
    "    * Dash does not do visualization\n",
    "    * Plotly creates all visualizations\n",
    "    * Plotly visualizations must be placed in a `dcc.Graph` component\n",
    "* Two parts of a dash application\n",
    "    * **Layout**\n",
    "        * Dash HTML Components - nearly all regular HTML components\n",
    "        * Dash Core Components - interactive widgets\n",
    "        * Dash Data Tables - two dimensional tables\n",
    "        * Dash Bootstrap Components - third-party library with more widgets styled with Bootstrap\n",
    "        * Must set `app.layout` to a dash component to finalize layout\n",
    "    * **Interactivity**\n",
    "        * Functions triggered by user events\n",
    "        * Functions receive component values as inputs\n",
    "        * Functions return new component values as outputs\n",
    "        * Interactivity must come after `app.layout` is set\n",
    "* Dash HTML Components\n",
    "    * Separate module - `html`\n",
    "    * Uses same tag names as regular HTML, but capitalized\n",
    "    * First parameter is content\n",
    "    * Provide id and class as `id` and `className` parameters\n",
    "    * Can provide CSS with `style` parameter, but better to do so in `assets/style.css`\n",
    "* Dash Core Components\n",
    "    * Separate module - `dcc`\n",
    "    * Many widgets that bundle together HTML/CSS and JavaScript\n",
    "    * Dropdown menus, radio buttons, tabs, and more\n",
    "    * Use `dcc.Graph` to add plotly figure\n",
    "* Dash Data Tables\n",
    "    * Separate module - `DashTable` with `dash_table` component\n",
    "    * Provide data as a list of dictionaries. Use `df.to_dict('records')`\n",
    "    * Set style for whole table, each cell, just the headers, or just the data with `style_*` parameters\n",
    "* Dash Bootstrap Components\n",
    "    * Third-party library - `dash_bootstrap_components` - aliased as dbc\n",
    "    * Must set `external_stylesheets` in `Dash` constructor to a list of URLs of the specific flavor of Bootstrap you want.\n",
    "    * Many extra components not provided by `dash_core_components`\n",
    "* Callback functions\n",
    "    * Must be defined after `app.layout` is set\n",
    "    * Function and parameter names are arbitrary\n",
    "    * Decorate functions with `app.callback`\n",
    "    * Pass `app.callback` a list of the outputs, inputs, and states\n",
    "    * Use `Input`, `Output`, and `State` from `dash.dependencies` to target the component and its property\n",
    "        * Example: `Input(\"component-id\", \"component-property\")`\n",
    "    * Function must return a value for each of the outputs\n",
    "    * Raise the `dash.exceptions.PreventUpdate` exception if you don't want the function to update any component\n",
    "    * Every callback is called when the app first launches\n",
    "    * Each component may appear as an output in exactly one callback\n",
    "        * May need to combine many triggers into one function to work around this limitation\n",
    "    * Each component may appear as an input in ANY number of callbacks"
   ]
  }
 ],
 "metadata": {
  "kernelspec": {
   "display_name": "Python 3 (ipykernel)",
   "language": "python",
   "name": "python3"
  },
  "language_info": {
   "codemirror_mode": {
    "name": "ipython",
    "version": 3
   },
   "file_extension": ".py",
   "mimetype": "text/x-python",
   "name": "python",
   "nbconvert_exporter": "python",
   "pygments_lexer": "ipython3",
   "version": "3.10.9"
  }
 },
 "nbformat": 4,
 "nbformat_minor": 5
}
