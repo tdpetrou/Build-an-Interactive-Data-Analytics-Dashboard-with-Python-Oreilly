{
 "cells": [
  {
   "cell_type": "markdown",
   "id": "ad8596e7",
   "metadata": {},
   "source": [
    "# Build an Interactive Data Analytics Dashboard with Python\n",
    "\n",
    "### Instructor\n",
    "\n",
    "* Teddy Petrou\n",
    "* Dunder Data\n",
    "* Author of multiple books and Python libraries\n",
    "\n",
    "### Overview\n",
    "\n",
    "Learn how to build interactive dashboards with Dash Python library\n",
    "\n",
    "1. [Launch the completed Dashboard](#Launch-the-Completed-Dashboard)\n",
    "1. [Get introduced to the data](#Get-Introduced-to-the-Data)\n",
    "1. [Visualizations with Plotly](#Visualizations-with-Plotly)\n",
    "1. Creating Choropleth maps\n",
    "1. Building the Dashboard with Dash\n",
    "1. Adding interactivity to the Dashboard\n",
    "\n",
    "### Assumptions\n",
    "\n",
    "* You have at least intermediate knowledge of Python\n",
    "* Understand basics of Pandas\n",
    "* Know basics of HTML/CSS\n",
    "\n",
    "### Goal\n",
    "\n",
    "* Provide a thorough walk through of the visualization/dashboarding of a complete data application\n",
    "* No coverage of data preparation/modeling\n",
    "* Be able to use code as a template for your data projects\n",
    "\n",
    "### Data\n",
    "\n",
    "* Coronavirus cases and deaths for all countries and states\n",
    "* Source - [John Hopkins GitHub repository](https://github.com/CSSEGISandData/COVID-19/tree/master/csse_covid_19_data/csse_covid_19_time_series)\n",
    "* Data updates have recently stopped as of March 9, 2023"
   ]
  },
  {
   "cell_type": "markdown",
   "id": "9ae016f3",
   "metadata": {},
   "source": [
    "## Launch the Completed Dashboard\n",
    "\n",
    "These instructions are also available at - https://github.com/tdpetrou/Build-an-Interactive-Data-Analytics-Dashboard-with-Python-Oreilly\n",
    "\n",
    "### Setting up your environment\n",
    "\n",
    "1. Verify you have Python 3.9+\n",
    "1. Download the course material from the GitHub repository\n",
    "1. Create the virtual environment\n",
    "1. Launch the dashboard\n",
    "\n",
    "### Verify you have Python 3.9+\n",
    "\n",
    "1. Open your terminal/command prompt\n",
    "1. If you installed Anaconda or Miniconda\n",
    "    1. You should have a **base** environment\n",
    "    1. Verify it is active by verifying that **`(base)`** is prepended to your prompt\n",
    "    1. Run `python --version` to output the version\n",
    "    1. If you have Python 3.8 or less upgrade by doing the following:\n",
    "        1. Run `conda create -n py310 python=3.10`\n",
    "        1. Run `conda deactivate`\n",
    "        1. Run `conda activate py310`\n",
    "        1. Now the `python` command is mapped to Python 3.10\n",
    "1. If you don't use Anaconda or Miniconda you will need to verify you have at least Python 3.9 and complete an upgrade if necessary on your own\n",
    "\n",
    "### Clone the GitHub repository\n",
    "\n",
    "1. Navigate to the [course page][1] and click on the green **code** button\n",
    "1. Click on the **Download ZIP** link from the dropdown menu. If you know git, you can clone the repository\n",
    "1. Unzip the contents and move the folder to a proper location in your file system (i.e. do not keep it in your downloads folder)\n",
    "\n",
    "### Create the virtual environment\n",
    "\n",
    "1. Using the `cd` command\n",
    "    1. Navigate to the folder you just unzipped and moved from above\n",
    "    1. Navigate into the `project` directory\n",
    "1. Run the command `python -m venv dashboard_venv`. This creates a new virtual environment named **dashboard_venv**\n",
    "1. Deactivate the conda environment with `conda deactivate`\n",
    "1. Activate the virtual environment with the following command:\n",
    "    1. Mac/Linux - `source dashboard_venv/bin/activate`\n",
    "    2. Windows - `dashboard_venv\\Scripts\\activate.bat`\n",
    "1. There should be `(dashboard_venv)` prepended to your prompt\n",
    "1. Run `pip install -U pip` to upgrade pip to the latest version\n",
    "1. Run `pip install -r requirements.txt` to install all the necessary packages into this environment. This will take some time to complete\n",
    "\n",
    "### Launch the dashboard\n",
    "\n",
    "1. Run the command `python dashboard.py`\n",
    "1. The following text should be printed to the screen - **Dash is running on http://127.0.0.1:8050/**\n",
    "1. Open your web browser and navigate to 127.0.0.1:8050\n",
    "1. You should see the coronavirus forecasting dashboard\n",
    "\n",
    "\n",
    "[1]: https://github.com/tdpetrou/Build-an-Interactive-Data-Analytics-Dashboard-with-Python-Oreilly"
   ]
  },
  {
   "cell_type": "markdown",
   "id": "07d7f673",
   "metadata": {},
   "source": [
    "## Get Introduced to the Data\n",
    "\n",
    "Definitions:\n",
    "\n",
    "* **group** - either **world** or **usa**\n",
    "* **area** - a country or US state\n",
    "\n",
    "The `notebooks/data` folder contains:\n",
    "\n",
    "* `all_data.csv` - one row per area per date. Contains both historical and predicted values\n",
    "* `summary.csv` - total deaths/cases for each area. No predictions\n",
    "* `population.csv` - population and code for each area"
   ]
  },
  {
   "cell_type": "code",
   "execution_count": null,
   "id": "c8c75397",
   "metadata": {
    "scrolled": true
   },
   "outputs": [],
   "source": [
    "# notice that last date is later than current day\n",
    "# this dataset has both historical and predicted data\n",
    "import pandas as pd\n",
    "df_all = pd.read_csv('data/all_data.csv', parse_dates=['date'])\n",
    "df_all.tail()"
   ]
  },
  {
   "cell_type": "code",
   "execution_count": null,
   "id": "e5d89df9",
   "metadata": {},
   "outputs": [],
   "source": [
    "# one row per area - total deaths/cases per area\n",
    "df_summary = pd.read_csv('data/summary.csv', parse_dates=['date'])\n",
    "df_summary.head()"
   ]
  },
  {
   "cell_type": "code",
   "execution_count": null,
   "id": "044b9921",
   "metadata": {},
   "outputs": [],
   "source": [
    "# population and code for each area\n",
    "pd.read_csv('data/population.csv').head()"
   ]
  },
  {
   "cell_type": "markdown",
   "id": "064b87be",
   "metadata": {},
   "source": [
    "### Select Texas data"
   ]
  },
  {
   "cell_type": "code",
   "execution_count": null,
   "id": "25789f58",
   "metadata": {},
   "outputs": [],
   "source": [
    "df_texas = df_all.query('group == \"usa\" and area == \"Texas\"')\n",
    "df_texas = df_texas.set_index('date')\n",
    "df_texas.head()"
   ]
  },
  {
   "cell_type": "markdown",
   "id": "2b98df7d",
   "metadata": {},
   "source": [
    "### Get the last actual date and first prediction date"
   ]
  },
  {
   "cell_type": "code",
   "execution_count": null,
   "id": "fa364115",
   "metadata": {},
   "outputs": [],
   "source": [
    "last_date = df_summary['date'].iloc[0]\n",
    "first_pred_date = last_date + pd.Timedelta('1D')\n",
    "last_date, first_pred_date"
   ]
  },
  {
   "cell_type": "markdown",
   "id": "4c869168",
   "metadata": {},
   "source": [
    "## Visualizations with Plotly\n",
    "\n",
    "* Plotly - Python library that creates interactive data visualizations for the web\n",
    "    * [Documentation][1]\n",
    "    \n",
    "### Plotly vs Dash\n",
    "\n",
    "* Both are products of the company Plotly\n",
    "* Both are free and open source with an enterprise version available for extra features and services\n",
    "* Closely related but different purposes\n",
    "* Plotly creates visualizations, producing independent HTML files (with JavaScript and CSS) that can be embedded on any page, including notebooks\n",
    "* Dash creates the dashboards with tools such as data tables, tabs, dropdowns, radio buttons, and many more widgets. It also runs the application, allowing an interactive experience for the users. All graphs in a dash application are created from the plotly library. \n",
    "\n",
    "We will build our application with Dash, but must learn Plotly first\n",
    "\n",
    "### Introduction to Plotly\n",
    "\n",
    "* Huge library\n",
    "* Cover the fundamentals\n",
    "\n",
    "[1]: https://plotly.com/python/\n",
    "[2]: https://plotly.com/python/plotly-fundamentals/"
   ]
  },
  {
   "cell_type": "markdown",
   "id": "08f47282",
   "metadata": {},
   "source": [
    "### General steps to create a plotly graph\n",
    "\n",
    "* Multiple ways to create graphs\n",
    "* Will show one straightforward path\n",
    "* Documentation suggests to use plotly express\n",
    "* We will will NOT do this as plotly express cannot create all graphs\n",
    "\n",
    "The following three steps will be used to create our graphs:\n",
    "\n",
    "1. Create Figure - with `go.Figure` or `make_subplots`\n",
    "2. Add trace - with `fig.add_*`\n",
    "3. Update layout - with `fig.update_layout` or `fig.update_*`"
   ]
  },
  {
   "cell_type": "markdown",
   "id": "2086c02f",
   "metadata": {},
   "source": [
    "## Plotly Figure Object\n",
    "\n",
    "* Create an empty figure by import `graph_objects` module"
   ]
  },
  {
   "cell_type": "code",
   "execution_count": null,
   "id": "cdd2635d",
   "metadata": {
    "scrolled": false
   },
   "outputs": [],
   "source": [
    "import plotly.graph_objects as go\n",
    "fig = go.Figure()\n",
    "fig"
   ]
  },
  {
   "cell_type": "markdown",
   "id": "a886151a",
   "metadata": {},
   "source": [
    "### Adding traces\n",
    "\n",
    "* A **trace** is a type of plot (scatter, bar, pie, histogram, etc...)\n",
    "* Use one of the `add_*` methods\n",
    "* [Visit this reference page][1] to see all traces\n",
    "\n",
    "### Adding a line\n",
    "\n",
    "* No `add_line` method\n",
    "* Must use `add_scatter` with `mode` set to one of the following:\n",
    "    * `\"lines\"` - connect the points without showing the markers\n",
    "    * `\"markers\"` - show just the markers\n",
    "    * `\"lines+markers\"` - connect the points and show the markers\n",
    "* Set `x` and `y` parameters\n",
    "\n",
    "[1]: https://plotly.com/python/reference/index/"
   ]
  },
  {
   "cell_type": "code",
   "execution_count": null,
   "id": "9909e22a",
   "metadata": {},
   "outputs": [],
   "source": [
    "x = df_texas.index\n",
    "y = df_texas['Deaths']\n",
    "fig = go.Figure()\n",
    "fig.add_scatter(x=x, y=y, mode=\"lines\")"
   ]
  },
  {
   "cell_type": "markdown",
   "id": "774fb9b7",
   "metadata": {},
   "source": [
    "### Updating the layout\n",
    "\n",
    "In plotly, the **layout** consists of the following graph properties plus several more:\n",
    "\n",
    "* height\n",
    "* width\n",
    "* title\n",
    "* xaxis/yaxis\n",
    "* legend\n",
    "* margin\n",
    "* annotations"
   ]
  },
  {
   "cell_type": "code",
   "execution_count": null,
   "id": "99a90a8c",
   "metadata": {},
   "outputs": [],
   "source": [
    "fig = go.Figure()\n",
    "fig.add_scatter(x=x, y=y, mode=\"lines+markers\")\n",
    "fig.update_layout(height=400, \n",
    "                  width=800,\n",
    "                  title=\"COVID-19 Deaths in Texas\")"
   ]
  },
  {
   "cell_type": "markdown",
   "id": "1fedea13",
   "metadata": {},
   "source": [
    "### Finding all of the layout properties\n",
    "\n",
    "* The `update_layout` method does not show any of its properties in its docstrings\n",
    "* View [the layout reference page][1] for a complete (very long) list of layout options\n",
    "* Many properties are **nested**\n",
    "* Use the Jupyter Notebook to find properties with `fig.layout` + **tab**\n",
    "\n",
    "\n",
    "![2]\n",
    "\n",
    "From here, choose one of the properties and press **shift + tab + tab** to reveal the docstrings. Below, the docstrings for the `title` property are shown.\n",
    "\n",
    "![3]\n",
    "\n",
    "[1]: https://plotly.com/python/reference/layout/\n",
    "[2]: images/layout_props.png\n",
    "[3]: images/layout_docs.png"
   ]
  },
  {
   "cell_type": "markdown",
   "id": "3b972858",
   "metadata": {},
   "source": [
    "### Explore properties\n",
    "\n",
    "* Some are deeply nested (font)\n",
    "* Can expand pop-up menu documentation so that it remains on the bottom of screen"
   ]
  },
  {
   "cell_type": "code",
   "execution_count": null,
   "id": "8663d152",
   "metadata": {},
   "outputs": [],
   "source": []
  },
  {
   "cell_type": "markdown",
   "id": "b193ac9b",
   "metadata": {},
   "source": [
    "### Update title"
   ]
  },
  {
   "cell_type": "code",
   "execution_count": null,
   "id": "6eae663e",
   "metadata": {},
   "outputs": [],
   "source": [
    "fig.update_layout(title={\n",
    "    \"text\": \"COVID-19 Deaths in Texas\",\n",
    "    \"x\": .5,\n",
    "    \"y\": .85,\n",
    "    \"font\": {\n",
    "        \"color\": \"blue\",\n",
    "        \"family\": \"dejavu sans\",\n",
    "        \"size\": 25\n",
    "    }\n",
    "})"
   ]
  },
  {
   "cell_type": "markdown",
   "id": "5dd322cb",
   "metadata": {},
   "source": [
    "## Creating a figure with multiple traces\n",
    "\n",
    "* Continue calling `fig.add_*` methods\n",
    "* Each successive trace will have a new color\n",
    "    * [Default qualitative color sequence][1]\n",
    "* Use `name` parameter to set legend label\n",
    "\n",
    "Split actual and predicted data into separate DataFrames\n",
    "\n",
    "[1]: https://plotly.com/python/discrete-color/#color-sequences-in-plotly-express"
   ]
  },
  {
   "cell_type": "code",
   "execution_count": null,
   "id": "97680328",
   "metadata": {
    "scrolled": false
   },
   "outputs": [],
   "source": [
    "df_texas_actual = df_texas.loc[:last_date]\n",
    "df_texas_pred = df_texas.loc[first_pred_date:]"
   ]
  },
  {
   "cell_type": "markdown",
   "id": "a936b64d",
   "metadata": {},
   "source": [
    "Plot both actual and predicted lines in same plot"
   ]
  },
  {
   "cell_type": "code",
   "execution_count": null,
   "id": "4ca38e59",
   "metadata": {},
   "outputs": [],
   "source": []
  },
  {
   "cell_type": "markdown",
   "id": "1c7944aa",
   "metadata": {},
   "source": [
    "Plot both actual and predicted **bar** plots"
   ]
  },
  {
   "cell_type": "code",
   "execution_count": null,
   "id": "f3cb3476",
   "metadata": {},
   "outputs": [],
   "source": []
  },
  {
   "cell_type": "markdown",
   "id": "642dd15b",
   "metadata": {},
   "source": [
    "## Creating subplots\n",
    "\n",
    "* Use `make_subplots` to create a grid of plots\n",
    "    * Set `rows` and `cols` parameters to integers\n",
    "* In the `add_*` methods set `row` and `col` parameters to specific grid location"
   ]
  },
  {
   "cell_type": "code",
   "execution_count": null,
   "id": "a7383742",
   "metadata": {},
   "outputs": [],
   "source": [
    "from plotly.subplots import make_subplots"
   ]
  },
  {
   "cell_type": "code",
   "execution_count": null,
   "id": "0d271a27",
   "metadata": {},
   "outputs": [],
   "source": []
  },
  {
   "cell_type": "code",
   "execution_count": null,
   "id": "9309ee4f",
   "metadata": {},
   "outputs": [],
   "source": []
  },
  {
   "cell_type": "code",
   "execution_count": null,
   "id": "37170979",
   "metadata": {},
   "outputs": [],
   "source": []
  },
  {
   "cell_type": "markdown",
   "id": "d5e4a91f",
   "metadata": {},
   "source": [
    "### Cleaning up the subplots\n",
    "\n",
    "* Use two for-loops to plot two traces on each graph\n",
    "* Colors made to be the same for both subplots"
   ]
  },
  {
   "cell_type": "code",
   "execution_count": null,
   "id": "bb6b23e2",
   "metadata": {},
   "outputs": [],
   "source": [
    "from plotly.colors import qualitative\n",
    "COLORS = qualitative.T10[:2]\n",
    "KINDS = 'Deaths', 'Cases'\n",
    "dfs = {'actual': df_texas_actual, 'prediction': df_texas_pred}\n",
    "\n",
    "fig = make_subplots(rows=2, cols=1, vertical_spacing=0.1)\n",
    "for row, kind in enumerate(KINDS, start=1):\n",
    "    for (name, df), color in zip(dfs.items(), COLORS):\n",
    "        fig.add_scatter(x=df.index, \n",
    "                        y=df[kind], \n",
    "                        mode=\"lines+markers\", \n",
    "                        name=name,\n",
    "                        line={\"color\": color},\n",
    "                        row=row,\n",
    "                        showlegend=row==1,\n",
    "                        col=1)\n",
    "    \n",
    "fig.update_layout(title={\"text\": \"Texas\", \n",
    "                         \"x\": 0.5, \n",
    "                         \"y\": 0.97, \n",
    "                         \"font\": {\"size\": 20}})\n",
    "fig"
   ]
  },
  {
   "cell_type": "markdown",
   "id": "5a9b7dad",
   "metadata": {},
   "source": [
    "## Adding annotations\n",
    "\n",
    "* Need to add titles to subplots\n",
    "* Can do in `make_subplots` with `subplot_titles`, but no control\n",
    "* Instead use `fig.add_annotation` or `annotations` parameter in `fig.update_layout`\n",
    "    * `annotations` parameter in `fig.update_layout`\n",
    "    * Use a list of dictionaries\n",
    "* `margin`\n",
    "    * Space between the four edges and the figure\n",
    "    * Default is 80 pixels for left/right margins & 100 top/bottom\n",
    "    * Decrease to fill out figure\n",
    "* `fig.update_annotations`\n",
    "    * updates all annotations"
   ]
  },
  {
   "cell_type": "code",
   "execution_count": null,
   "id": "d735f0f5",
   "metadata": {
    "scrolled": false
   },
   "outputs": [],
   "source": [
    "fig.update_layout(\n",
    "            annotations=[\n",
    "                {\"y\": 0.95, \"text\": \"<b>Deaths</b>\"},\n",
    "                {\"y\": 0.3, \"text\": \"<b>Cases</b>\"},\n",
    "            ],\n",
    "            margin={\"t\": 40, \"l\": 50, \"r\": 10, \"b\": 0},\n",
    "            legend={\n",
    "                \"x\": 0.5, \n",
    "                \"y\": -0.05, \n",
    "                \"xanchor\": \"center\", \n",
    "                \"orientation\": \"h\", \n",
    "                \"font\": {\"size\": 15}},\n",
    "        )\n",
    "annot_props = {\n",
    "        \"x\": 0.1,\n",
    "        \"xref\": \"paper\",\n",
    "        \"yref\": \"paper\",\n",
    "        \"xanchor\": \"left\",\n",
    "        \"showarrow\": False,\n",
    "        \"font\": {\"size\": 18},\n",
    "    }\n",
    "fig.update_annotations(annot_props)\n",
    "fig"
   ]
  },
  {
   "cell_type": "markdown",
   "id": "c17c072d",
   "metadata": {},
   "source": [
    "## Experiment with layout changes"
   ]
  },
  {
   "cell_type": "code",
   "execution_count": null,
   "id": "611e1209",
   "metadata": {},
   "outputs": [],
   "source": []
  },
  {
   "cell_type": "markdown",
   "id": "18c6238d",
   "metadata": {},
   "source": [
    "## Choropleth maps\n",
    "\n",
    "* [Choropleth trace][1] - creates a variety of polygons (states and countries for our project) colored by the value of a numeric variable\n",
    "* Use `add_choropleth`\n",
    "\n",
    "[1]: https://plotly.com/python/reference/choropleth/"
   ]
  },
  {
   "cell_type": "code",
   "execution_count": null,
   "id": "0748c6de",
   "metadata": {},
   "outputs": [],
   "source": [
    "fig = go.Figure()\n",
    "fig.add_choropleth()"
   ]
  },
  {
   "cell_type": "markdown",
   "id": "4d7e1bc6",
   "metadata": {},
   "source": [
    "### Coloring countries by deaths\n",
    "\n",
    "* Use summary table to get countries with at least 1 million population"
   ]
  },
  {
   "cell_type": "code",
   "execution_count": null,
   "id": "d2034956",
   "metadata": {},
   "outputs": [],
   "source": [
    "df_world = df_summary.query(\"group == 'world' and population > 1\")\n",
    "df_world.head(3)"
   ]
  },
  {
   "cell_type": "markdown",
   "id": "fbdbee64",
   "metadata": {},
   "source": [
    "* Each country has a [standardized ISO-3 code][1] that plotly understands\n",
    "* Assign these codes and the deaths column as their own variables\n",
    "\n",
    "[1]: https://en.wikipedia.org/wiki/ISO_3166-1_alpha-3"
   ]
  },
  {
   "cell_type": "code",
   "execution_count": null,
   "id": "9bfc2248",
   "metadata": {},
   "outputs": [],
   "source": [
    "locations = df_world['code']\n",
    "z = df_world['Deaths']"
   ]
  },
  {
   "cell_type": "markdown",
   "id": "e81696b6",
   "metadata": {},
   "source": [
    "### Create choropleth with coronavirus info\n",
    "\n",
    "* Set:\n",
    "    * `locations` - list of ISO codes\n",
    "    * `z` - number of deaths\n",
    "    * `zmin` - min number for scale\n",
    "    * `colorscale` - set to a [continuous scale][1]\n",
    "    \n",
    "\n",
    "[1]: https://plotly.com/python/builtin-colorscales/"
   ]
  },
  {
   "cell_type": "code",
   "execution_count": null,
   "id": "d4004e04",
   "metadata": {},
   "outputs": [],
   "source": [
    "fig = go.Figure()\n",
    "fig.add_choropleth(locations=locations, z=z, zmin=0, colorscale=\"orrd\")\n",
    "fig.update_layout(margin={\"t\": 0, \"l\": 10, \"r\": 10, \"b\": 0})"
   ]
  },
  {
   "cell_type": "markdown",
   "id": "0f14316c",
   "metadata": {},
   "source": [
    "### Selecting a better range and projection\n",
    "\n",
    "* Don't show most northern/southern areas\n",
    "* Use a different [projection][1] to choose from. Projection \"robinson\" is chosen below, but feel free to experiment with others. We can select the latitude and longitude range, and the projection by setting the `geo` parameter in `update_layout`.\n",
    "\n",
    "[1]: https://plotly.com/python/map-configuration/#map-projections"
   ]
  },
  {
   "cell_type": "code",
   "execution_count": null,
   "id": "4f6bc426",
   "metadata": {},
   "outputs": [],
   "source": [
    "fig = go.Figure()\n",
    "fig.add_choropleth(locations=locations, \n",
    "                   z=z, \n",
    "                   zmin=0, \n",
    "                   colorscale=\"orrd\",  \n",
    "                   marker_line_width=0.5)\n",
    "fig.update_layout(\n",
    "    geo={\n",
    "        \"showframe\": False,\n",
    "        \"lataxis\": {\"range\": [-37, 68]},\n",
    "        \"lonaxis\": {\"range\": [-130, 150]},\n",
    "        \"projection\": {\"type\": \"robinson\"}\n",
    "    },\n",
    "    margin={\"t\": 0, \"l\": 10, \"r\": 10, \"b\": 0})"
   ]
  },
  {
   "cell_type": "markdown",
   "id": "778cb6d4",
   "metadata": {},
   "source": [
    "### Customizing the hover text\n",
    "\n",
    "* Add all statistics to hover\n",
    "* Create Series with info"
   ]
  },
  {
   "cell_type": "code",
   "execution_count": null,
   "id": "ad4fa49e",
   "metadata": {},
   "outputs": [],
   "source": [
    "def hover_text(x):\n",
    "    name = x[\"area\"]\n",
    "    deaths = x[\"Deaths\"]\n",
    "    cases = x[\"Cases\"]\n",
    "    deathsm = x[\"Deaths per Million\"]\n",
    "    casesm = x[\"Cases per Million\"]\n",
    "    pop = x[\"population\"]\n",
    "    return (\n",
    "        f\"<b>{name}</b><br>\"\n",
    "        f\"Deaths - {deaths:,.0f}<br>\"\n",
    "        f\"Cases - {cases:,.0f}<br>\"\n",
    "        f\"Deaths per Million - {deathsm:,.0f}<br>\"\n",
    "        f\"Cases per Million - {casesm:,.0f}<br>\"\n",
    "        f\"Population - {pop:,.0f}M\"\n",
    "    )\n",
    "\n",
    "text = df_world.apply(hover_text, axis=1)\n",
    "text.head()"
   ]
  },
  {
   "cell_type": "markdown",
   "id": "9ce1866a",
   "metadata": {},
   "source": [
    "* Set `text` parameter\n",
    "* Must set `hoverinfo` to `'text'` to only use "
   ]
  },
  {
   "cell_type": "code",
   "execution_count": null,
   "id": "d245787b",
   "metadata": {},
   "outputs": [],
   "source": [
    "fig = go.Figure()\n",
    "fig.add_choropleth(locations=locations, z=z, zmin=0, colorscale=\"orrd\", \n",
    "                   marker_line_width=0.5, text=text, \n",
    "                   hoverinfo=\"text\"\n",
    "                  )\n",
    "fig.update_layout(\n",
    "    geo={\n",
    "        \"showframe\": False,\n",
    "        \"lataxis\": {\"range\": [-37, 68]},\n",
    "        \"lonaxis\": {\"range\": [-130, 150]},\n",
    "        \"projection\": {\"type\": \"robinson\"}\n",
    "    },\n",
    "    margin={\"t\": 0, \"l\": 10, \"r\": 10, \"b\": 0})"
   ]
  },
  {
   "cell_type": "markdown",
   "id": "c0e83bdf",
   "metadata": {},
   "source": [
    "### USA Choropleth\n",
    "\n",
    "* Set `locationmode` to `\"USA-states\"`\n",
    "* Set `projection` to \"albers usa\" which moves Alaska and Hawaii near the other 48 states\n",
    "* Colored by \"Cases per Million\"."
   ]
  },
  {
   "cell_type": "code",
   "execution_count": null,
   "id": "97cc4d8f",
   "metadata": {},
   "outputs": [],
   "source": [
    "df_states = df_summary.query(\"group == 'usa'\")\n",
    "locations = df_states['code']\n",
    "z = df_states['Cases per Million']\n",
    "text = df_states.apply(hover_text, axis=1)\n",
    "\n",
    "fig = go.Figure()\n",
    "fig.add_choropleth(locations=locations, locationmode='USA-states', z=z, zmin=0, \n",
    "                   colorscale=\"orrd\", marker_line_width=0.5, text=text, hoverinfo=\"text\")\n",
    "fig.update_layout(\n",
    "    geo={\n",
    "        \"showframe\": False,\n",
    "        \"projection\": {\"type\": \"albers usa\"}\n",
    "    },\n",
    "    margin={\"t\": 0, \"l\": 10, \"r\": 10, \"b\": 0})"
   ]
  },
  {
   "cell_type": "markdown",
   "id": "f02f406a",
   "metadata": {},
   "source": [
    "## Plotly Summary\n",
    "\n",
    "Plotly is a great tool for creating interactive data visualizations for the web. The three main steps for creating a visualization are:\n",
    "\n",
    "1. Create Figure - with `go.Figure` or `make_subplots`\n",
    "2. Add trace - with `fig.add_*`\n",
    "3. Update layout - with `fig.update_layout` or `fig.update_*`\n",
    "\n",
    "### Traces\n",
    "\n",
    "* A trace is plotly terminology for a \"kind of plot\" (scatter, bar, pie, box, choropleth, etc...)\n",
    "* Find the trace you want on [the left side of this page][1]\n",
    "    * Or type `fig.add_` and press tab\n",
    "* Read documentation for a specific trace once selected e.g. `fig.add_scatter` -> shift + tab + tab\n",
    "* Add as many traces as you want to one figure\n",
    "\n",
    "### Layout\n",
    "\n",
    "* The layout is where properties such as height, width, title, xaxis/yaxis, legend, annotations, etc... are set\n",
    "* Use `fig.update_layout` to set properties for entire figure\n",
    "* Documentation does NOT show parameters with `fig.update_layout`\n",
    "    * Discover them with `fig.layout.` + tab\n",
    "    * Read documentation on specific property `fig.layout.title` -> shift + tab + tab\n",
    "    \n",
    "### Subplots\n",
    "\n",
    "* Create grid of subplots with `make_subplots` using `rows` and `cols`\n",
    "* All trace methods, `fig.add_*`, have `row` and `col` to specify subplot\n",
    "* Use `fig.update_layout` to change properties on entire figure\n",
    "* Other `fig.update_*` methods exist that have `row` and `col` parameters to change specific subplot\n",
    "\n",
    "### Choropleth\n",
    "\n",
    "* Colored polygons (countries and states for our project)\n",
    "* Some properties are in `fig.add_choropleth`, others are in `fig.update_layout` using `geo` parameter\n",
    "* Set `locations` to be code (ISO-3 for countries and two-character abbreviation for states)\n",
    "* Set `locationmode` to be \"USA-States\" for USA\n",
    "* Set projection and range (`latrange`/`lonrange`) for world\n",
    "* Set projection to be \"albers usa\" for usa\n",
    "\n",
    "[1]: https://plotly.com/python/reference/index/"
   ]
  }
 ],
 "metadata": {
  "kernelspec": {
   "display_name": "Python 3 (ipykernel)",
   "language": "python",
   "name": "python3"
  },
  "language_info": {
   "codemirror_mode": {
    "name": "ipython",
    "version": 3
   },
   "file_extension": ".py",
   "mimetype": "text/x-python",
   "name": "python",
   "nbconvert_exporter": "python",
   "pygments_lexer": "ipython3",
   "version": "3.9.13"
  }
 },
 "nbformat": 4,
 "nbformat_minor": 5
}
